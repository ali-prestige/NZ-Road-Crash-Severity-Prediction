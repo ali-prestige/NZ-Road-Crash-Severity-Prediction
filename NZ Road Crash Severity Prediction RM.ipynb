{
 "cells": [
  {
   "cell_type": "markdown",
   "id": "08fd7f44",
   "metadata": {},
   "source": [
    "# 🚗 NZ Road Crash Severity Prediction\n",
    "\n",
    "This project builds a machine learning model to classify the severity of road crashes in New Zealand using publicly available data from the Crash Analysis System (CAS).\n",
    "\n",
    "## 📌 Objective\n",
    "Predict whether a crash is fatal, serious, or minor using various features like location, weather, and road conditions.\n",
    "\n",
    "## 📊 Dataset\n",
    "Source: [NZTA Crash Analysis System (CAS)](https://catalogue.data.govt.nz/dataset?q=crash)\n",
    "\n",
    "The dataset contains:\n",
    "- **Crash ID**: Identifier for each crash\n",
    "- **Crash Severity**: Target variable (Fatal, Serious, Minor)\n",
    "- **Location, Time, Weather, Road Conditions**: Features affecting crash severity\n",
    "\n",
    "## 🧪 Methodology\n",
    "- Data cleaning & preprocessing\n",
    "- Exploratory Data Analysis (EDA)\n",
    "- Feature encoding & scaling\n",
    "- Classification model (Random Forest)\n",
    "- Model evaluation\n"
   ]
  },
  {
   "cell_type": "code",
   "execution_count": null,
   "id": "8f3e5858",
   "metadata": {},
   "outputs": [],
   "source": []
  }
 ],
 "metadata": {
  "kernelspec": {
   "display_name": "Python 3 (ipykernel)",
   "language": "python",
   "name": "python3"
  },
  "language_info": {
   "codemirror_mode": {
    "name": "ipython",
    "version": 3
   },
   "file_extension": ".py",
   "mimetype": "text/x-python",
   "name": "python",
   "nbconvert_exporter": "python",
   "pygments_lexer": "ipython3",
   "version": "3.9.7"
  }
 },
 "nbformat": 4,
 "nbformat_minor": 5
}
