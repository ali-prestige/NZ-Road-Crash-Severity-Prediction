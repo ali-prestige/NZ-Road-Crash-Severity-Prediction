{
 "cells": [
  {
   "cell_type": "code",
   "execution_count": null,
   "id": "1dbcf5ae",
   "metadata": {},
   "outputs": [
    {
     "name": "stdout",
     "output_type": "stream",
     "text": [
      "Shape of dataset: (870753, 72)\n"
     ]
    }
   ],
   "source": [
    "import pandas as pd\n",
    "import numpy as np\n",
    "import matplotlib.pyplot as plt\n",
    "import seaborn as sns\n",
    "from sklearn.model_selection import train_test_split\n",
    "from sklearn.preprocessing import LabelEncoder, StandardScaler\n",
    "from sklearn.ensemble import RandomForestClassifier\n",
    "from sklearn.metrics import classification_report, confusion_matrix\n",
    "\n",
    "# 📂 Step 2: Load Data\n",
    "df = pd.read_csv('Crash_Analysis_System_(CAS)_data.csv')\n",
    "print(\"Shape of dataset:\", df.shape)\n",
    "df.head()\n",
    "\n",
    "# 🧹 Step 3: Preprocessing\n",
    "# Drop columns with too many nulls or irrelevant columns\n",
    "df = df.drop(columns=['X', 'Y', 'OBJECTID', 'advisorySpeed', 'areaUnitID', 'bicycle',\n",
    "                      'bus', 'cliffBank', 'crashDirectionDescription', 'crashLocation1', 'crashLocation2',\n",
    "                      'crashRoadSideRoad', 'crashSHDescription', 'debris', 'directionRoleDescription', \n",
    "                      'ditch', 'fence', 'flatHill', 'guardRail', 'holiday', 'houseOrBuilding', \n",
    "                      'intersection', 'kerb', 'light', 'meshblockId', 'moped', 'motorcycle', \n",
    "                      'NumberOfLanes', 'objectThrownOrDropped', 'otherObject', 'otherVehicleType', \n",
    "                      'overBank', 'parkedVehicle', 'phoneBoxEtc', 'postOrPole', 'region', 'roadCharacter', \n",
    "                      'roadLane', 'roadSurface', 'roadworks', 'schoolBus', 'slipOrFlood', 'strayAnimal', \n",
    "                      'streetLight', 'suv', 'taxi', 'temporarySpeedLimit', 'tlaId', 'tlaName', \n",
    "                      'trafficControl', 'trafficIsland', 'trafficSign', 'train', 'tree', 'truck', \n",
    "                      'unknownVehicleType', 'urban', 'vanOrUtility', 'vehicle', 'waterRiver'], errors='ignore')\n",
    "\n",
    "# Handle missing values - drop rows with missing target value 'crashSeverity'\n",
    "df = df.dropna(subset=['crashSeverity'])\n",
    "\n",
    "# Fill missing values in other columns (with mean or mode, depending on the feature)\n",
    "df.fillna(df.mean(), inplace=True)\n",
    "\n",
    "# Encode categorical variables (weatherA, weatherB, region, etc.)\n",
    "le = LabelEncoder()\n",
    "categorical_cols = ['weatherA', 'weatherB']  # Add other categorical columns as needed\n",
    "for col in categorical_cols:\n",
    "    df[col] = le.fit_transform(df[col])\n",
    "\n",
    "# 🎯 Step 4: Define Features & Target\n",
    "X = df.drop('crashSeverity', axis=1)  # Features excluding target column\n",
    "y = df['crashSeverity']  # Target variable\n",
    "\n",
    "# Split the data into training and testing sets\n",
    "X_train, X_test, y_train, y_test = train_test_split(X, y, test_size=0.2, random_state=42)\n",
    "\n",
    "# 🔍 Step 5: Model Training\n",
    "clf = RandomForestClassifier(random_state=42)\n",
    "clf.fit(X_train, y_train)\n",
    "\n",
    "# 📊 Step 6: Evaluation\n",
    "y_pred = clf.predict(X_test)\n",
    "print(confusion_matrix(y_test, y_pred))\n",
    "print(classification_report(y_test, y_pred))"
   ]
  },
  {
   "cell_type": "code",
   "execution_count": null,
   "id": "9dff6d27",
   "metadata": {},
   "outputs": [],
   "source": []
  }
 ],
 "metadata": {
  "kernelspec": {
   "display_name": "Python 3 (ipykernel)",
   "language": "python",
   "name": "python3"
  },
  "language_info": {
   "codemirror_mode": {
    "name": "ipython",
    "version": 3
   },
   "file_extension": ".py",
   "mimetype": "text/x-python",
   "name": "python",
   "nbconvert_exporter": "python",
   "pygments_lexer": "ipython3",
   "version": "3.9.7"
  }
 },
 "nbformat": 4,
 "nbformat_minor": 5
}
